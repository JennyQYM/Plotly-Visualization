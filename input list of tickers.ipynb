{
 "cells": [
  {
   "cell_type": "markdown",
   "metadata": {},
   "source": [
    "# Dynamic Visualization with Plotly"
   ]
  },
  {
   "cell_type": "code",
   "execution_count": 1,
   "metadata": {},
   "outputs": [],
   "source": [
    "import plotly \n",
    "plotly.tools.set_credentials_file(username='chimakurthi.l', api_key='AOTstKtQZRF8yaDQ3FLs')\n",
    "import pandas as pd\n",
    "import numpy as np\n",
    "\n",
    "import plotly.plotly as py\n",
    "import plotly.graph_objs as go\n",
    "import cufflinks"
   ]
  },
  {
   "cell_type": "code",
   "execution_count": 67,
   "metadata": {},
   "outputs": [],
   "source": [
    "data= pd.read_excel(\"data2.xlsx\")"
   ]
  },
  {
   "cell_type": "code",
   "execution_count": 68,
   "metadata": {},
   "outputs": [
    {
     "data": {
      "text/html": [
       "<div>\n",
       "<style scoped>\n",
       "    .dataframe tbody tr th:only-of-type {\n",
       "        vertical-align: middle;\n",
       "    }\n",
       "\n",
       "    .dataframe tbody tr th {\n",
       "        vertical-align: top;\n",
       "    }\n",
       "\n",
       "    .dataframe thead th {\n",
       "        text-align: right;\n",
       "    }\n",
       "</style>\n",
       "<table border=\"1\" class=\"dataframe\">\n",
       "  <thead>\n",
       "    <tr style=\"text-align: right;\">\n",
       "      <th></th>\n",
       "      <th>TimeStamp</th>\n",
       "      <th>Stock Name</th>\n",
       "      <th>Stock Ticker</th>\n",
       "      <th>Sector</th>\n",
       "      <th>Daily Sentiment Score</th>\n",
       "      <th>Daily Sentiment Volume</th>\n",
       "      <th>Daily Sentiment Insight</th>\n",
       "      <th>Weekly Sentiment Score</th>\n",
       "      <th>Weekly Sentiment Volume</th>\n",
       "      <th>Weekly Sentiment Insight</th>\n",
       "    </tr>\n",
       "  </thead>\n",
       "  <tbody>\n",
       "    <tr>\n",
       "      <th>0</th>\n",
       "      <td>2015-08-05</td>\n",
       "      <td>Agilent Technologies, Inc.</td>\n",
       "      <td>A</td>\n",
       "      <td>Capital Goods</td>\n",
       "      <td>-0.28</td>\n",
       "      <td>0</td>\n",
       "      <td>-1.0</td>\n",
       "      <td>0.64</td>\n",
       "      <td>1.08</td>\n",
       "      <td>-1.0</td>\n",
       "    </tr>\n",
       "    <tr>\n",
       "      <th>1</th>\n",
       "      <td>2015-08-06</td>\n",
       "      <td>Agilent Technologies, Inc.</td>\n",
       "      <td>A</td>\n",
       "      <td>Capital Goods</td>\n",
       "      <td>0.85</td>\n",
       "      <td>1</td>\n",
       "      <td>-1.0</td>\n",
       "      <td>0.70</td>\n",
       "      <td>1.00</td>\n",
       "      <td>-1.0</td>\n",
       "    </tr>\n",
       "    <tr>\n",
       "      <th>2</th>\n",
       "      <td>2015-08-07</td>\n",
       "      <td>Agilent Technologies, Inc.</td>\n",
       "      <td>A</td>\n",
       "      <td>Capital Goods</td>\n",
       "      <td>2.47</td>\n",
       "      <td>1</td>\n",
       "      <td>0.0</td>\n",
       "      <td>1.07</td>\n",
       "      <td>1.00</td>\n",
       "      <td>0.0</td>\n",
       "    </tr>\n",
       "    <tr>\n",
       "      <th>3</th>\n",
       "      <td>2015-08-08</td>\n",
       "      <td>Agilent Technologies, Inc.</td>\n",
       "      <td>A</td>\n",
       "      <td>Capital Goods</td>\n",
       "      <td>2.47</td>\n",
       "      <td>0</td>\n",
       "      <td>0.0</td>\n",
       "      <td>1.23</td>\n",
       "      <td>1.00</td>\n",
       "      <td>0.0</td>\n",
       "    </tr>\n",
       "    <tr>\n",
       "      <th>4</th>\n",
       "      <td>2015-08-09</td>\n",
       "      <td>Agilent Technologies, Inc.</td>\n",
       "      <td>A</td>\n",
       "      <td>Capital Goods</td>\n",
       "      <td>2.47</td>\n",
       "      <td>0</td>\n",
       "      <td>0.0</td>\n",
       "      <td>1.45</td>\n",
       "      <td>1.00</td>\n",
       "      <td>0.0</td>\n",
       "    </tr>\n",
       "  </tbody>\n",
       "</table>\n",
       "</div>"
      ],
      "text/plain": [
       "   TimeStamp                  Stock Name Stock Ticker         Sector  \\\n",
       "0 2015-08-05  Agilent Technologies, Inc.            A  Capital Goods   \n",
       "1 2015-08-06  Agilent Technologies, Inc.            A  Capital Goods   \n",
       "2 2015-08-07  Agilent Technologies, Inc.            A  Capital Goods   \n",
       "3 2015-08-08  Agilent Technologies, Inc.            A  Capital Goods   \n",
       "4 2015-08-09  Agilent Technologies, Inc.            A  Capital Goods   \n",
       "\n",
       "   Daily Sentiment Score  Daily Sentiment Volume  Daily Sentiment Insight  \\\n",
       "0                  -0.28                       0                     -1.0   \n",
       "1                   0.85                       1                     -1.0   \n",
       "2                   2.47                       1                      0.0   \n",
       "3                   2.47                       0                      0.0   \n",
       "4                   2.47                       0                      0.0   \n",
       "\n",
       "   Weekly Sentiment Score  Weekly Sentiment Volume  Weekly Sentiment Insight  \n",
       "0                    0.64                     1.08                      -1.0  \n",
       "1                    0.70                     1.00                      -1.0  \n",
       "2                    1.07                     1.00                       0.0  \n",
       "3                    1.23                     1.00                       0.0  \n",
       "4                    1.45                     1.00                       0.0  "
      ]
     },
     "execution_count": 68,
     "metadata": {},
     "output_type": "execute_result"
    }
   ],
   "source": [
    "data.head()"
   ]
  },
  {
   "cell_type": "code",
   "execution_count": 47,
   "metadata": {},
   "outputs": [],
   "source": [
    "comp_name = list(data['Stock Name'].unique())"
   ]
  },
  {
   "cell_type": "code",
   "execution_count": 69,
   "metadata": {},
   "outputs": [],
   "source": [
    "# choose number of company you want to display\n",
    "\n",
    "import random\n",
    "sample_5 = random.sample(comp_name,5)\n",
    "sample_50 = random.sample(comp_name,50)\n",
    "sample_500 = random.sample(comp_name,500)"
   ]
  },
  {
   "cell_type": "code",
   "execution_count": 70,
   "metadata": {},
   "outputs": [],
   "source": [
    "# extract the sample companies\n",
    "\n",
    "df_5 = data[data['Stock Name'].isin(sample_5)]\n",
    "df_50 = data[data['Stock Name'].isin(sample_50)]\n",
    "df_500 = data[data['Stock Name'].isin(sample_500)]"
   ]
  },
  {
   "cell_type": "code",
   "execution_count": 75,
   "metadata": {},
   "outputs": [],
   "source": [
    "# calculate the mean of senti score\n",
    "\n",
    "group5 = df_5.groupby('TimeStamp')['Daily Sentiment Score'].mean().reset_index()\n",
    "group50 = df_50.groupby('TimeStamp')['Daily Sentiment Score'].mean().reset_index()\n",
    "group500 = df_500.groupby('TimeStamp')['Daily Sentiment Score'].mean().reset_index()"
   ]
  },
  {
   "cell_type": "code",
   "execution_count": 78,
   "metadata": {},
   "outputs": [
    {
     "data": {
      "text/html": [
       "<iframe id=\"igraph\" scrolling=\"no\" style=\"border:none;\" seamless=\"seamless\" src=\"https://plot.ly/~chimakurthi.l/30.embed\" height=\"525px\" width=\"100%\"></iframe>"
      ],
      "text/plain": [
       "<plotly.tools.PlotlyDisplay object>"
      ]
     },
     "execution_count": 78,
     "metadata": {},
     "output_type": "execute_result"
    }
   ],
   "source": [
    "trace_5 = go.Scatter(\n",
    "    x = group5.TimeStamp,\n",
    "    y = group5['Daily Sentiment Score'],\n",
    "    name = '5 companies',\n",
    "    mode = 'lines'\n",
    ")\n",
    "\n",
    "trace_50 = go.Scatter(\n",
    "    x = group50.TimeStamp,\n",
    "    y = group50['Daily Sentiment Score'],\n",
    "    name = '50 companies',\n",
    "    mode = 'lines'\n",
    ")\n",
    "\n",
    "trace_500 = go.Scatter(\n",
    "    x = group500.TimeStamp,\n",
    "    y = group500['Daily Sentiment Score'],\n",
    "    name = '500 companies',\n",
    "    mode = 'lines'\n",
    ")\n",
    "\n",
    "data = [trace_5, trace_50, trace_500]\n",
    "\n",
    "updatemenus = list([\n",
    "    dict(type=\"buttons\",\n",
    "         active=-1,\n",
    "         buttons=list([\n",
    "            dict(label = '5 Companies',\n",
    "                 method = 'update',\n",
    "                 args = [{'visible': [True, False, False]},\n",
    "                         {'title': 'Sentiment Score of 5 Companies'}]),\n",
    "            dict(label = '50 Companies',\n",
    "                 method = 'update',\n",
    "                 args = [{'visible': [False, True, False]},\n",
    "                         {'title': 'Sentiment Score of 50 Companies'}]),\n",
    "            dict(label = '500 Companies',\n",
    "                 method = 'update',\n",
    "                 args = [{'visible': [False, False, True]},\n",
    "                         {'title': 'Sentiment Score of 500 Companies'}]),\n",
    "            dict(label = 'All',\n",
    "                 method = 'update',\n",
    "                 args = [{'visible': [True, True, True]},\n",
    "                         {'title': 'Sentiment Score Comparation'}]) \n",
    "        ]),\n",
    "    )\n",
    "])\n",
    "\n",
    "\n",
    "\n",
    "layout = dict(title='Senti Score', showlegend=False,\n",
    "              updatemenus=updatemenus)\n",
    "\n",
    "\n",
    "fig = dict(data=data, layout=layout)\n",
    "py.iplot(fig, filename='update_button')"
   ]
  },
  {
   "cell_type": "code",
   "execution_count": null,
   "metadata": {},
   "outputs": [],
   "source": []
  },
  {
   "cell_type": "code",
   "execution_count": null,
   "metadata": {},
   "outputs": [],
   "source": []
  },
  {
   "cell_type": "code",
   "execution_count": null,
   "metadata": {},
   "outputs": [],
   "source": []
  },
  {
   "cell_type": "code",
   "execution_count": null,
   "metadata": {},
   "outputs": [],
   "source": []
  },
  {
   "cell_type": "code",
   "execution_count": null,
   "metadata": {},
   "outputs": [],
   "source": []
  }
 ],
 "metadata": {
  "kernelspec": {
   "display_name": "Python 3",
   "language": "python",
   "name": "python3"
  },
  "language_info": {
   "codemirror_mode": {
    "name": "ipython",
    "version": 3
   },
   "file_extension": ".py",
   "mimetype": "text/x-python",
   "name": "python",
   "nbconvert_exporter": "python",
   "pygments_lexer": "ipython3",
   "version": "3.6.5"
  },
  "toc": {
   "base_numbering": 1,
   "nav_menu": {},
   "number_sections": true,
   "sideBar": true,
   "skip_h1_title": false,
   "title_cell": "Table of Contents",
   "title_sidebar": "Contents",
   "toc_cell": false,
   "toc_position": {},
   "toc_section_display": true,
   "toc_window_display": false
  }
 },
 "nbformat": 4,
 "nbformat_minor": 2
}
